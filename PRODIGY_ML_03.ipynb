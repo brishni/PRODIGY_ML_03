{
 "cells": [
  {
   "cell_type": "markdown",
   "id": "4f3ebe66-58ec-4b8d-864d-35d086f863ae",
   "metadata": {},
   "source": [
    "## Importing libraries"
   ]
  },
  {
   "cell_type": "code",
   "execution_count": null,
   "id": "6317e625-0004-40bc-a66b-ef6a07042d34",
   "metadata": {},
   "outputs": [],
   "source": [
    "import numpy as np\n",
    "import matplotlib.pyplot as plt\n",
    "import os\n",
    "import cv2\n",
    "from sklearn.model_selection import train_test_split\n",
    "from sklearn.svm import SVC\n",
    "from sklearn.metrics import classification_report, confusion_matrix"
   ]
  },
  {
   "cell_type": "markdown",
   "id": "e1c88719-ecd5-4d1d-a6ba-c88cce3b40e9",
   "metadata": {},
   "source": [
    "## Setting up datset path"
   ]
  },
  {
   "cell_type": "code",
   "execution_count": null,
   "id": "9a8f46ef-7a0e-4323-8989-aa4bcf61d519",
   "metadata": {},
   "outputs": [],
   "source": [
    "DATADIR = \"images/PetImages/\"\n",
    "CATEGORIES = [\"cat\", \"dog\"]"
   ]
  },
  {
   "cell_type": "markdown",
   "id": "01071d4a-bcfe-4d46-b111-4ba83a6157ed",
   "metadata": {},
   "source": [
    "## Define image size and empty lists for data and labels"
   ]
  },
  {
   "cell_type": "code",
   "execution_count": null,
   "id": "ed723b74-d873-4b04-8bd3-7089883c41ce",
   "metadata": {},
   "outputs": [],
   "source": [
    "IMG_SIZE = 100\n",
    "data = []\n",
    "target = []"
   ]
  },
  {
   "cell_type": "markdown",
   "id": "8e7ff45f-c9d6-45b4-aab7-bbf05b33816f",
   "metadata": {},
   "source": [
    "## Load and Preprocess Data"
   ]
  },
  {
   "cell_type": "code",
   "execution_count": null,
   "id": "d037a5d9-37bb-4bf1-a335-39609f304794",
   "metadata": {},
   "outputs": [],
   "source": [
    "for category in CATEGORIES:\n",
    "    path = os.path.join(DATADIR, category)\n",
    "    class_num = CATEGORIES.index(category)\n",
    "    for img in os.listdir(path):\n",
    "        try:\n",
    "            img_array = cv2.imread(os.path.join(path, img), cv2.IMREAD_GRAYSCALE)\n",
    "            new_array = cv2.resize(img_array, (IMG_SIZE, IMG_SIZE))\n",
    "            data.append(new_array)\n",
    "            target.append(class_num)\n",
    "        except Exception as e:\n",
    "            pass\n",
    "print(\"Checkpoint 1: Loaded data successfully\")"
   ]
  },
  {
   "cell_type": "markdown",
   "id": "af4df763-3d97-481a-9191-3858bb9ccbb9",
   "metadata": {},
   "source": [
    "## Convert lists to numpy arrays"
   ]
  },
  {
   "cell_type": "code",
   "execution_count": null,
   "id": "15fe68a4-2d23-40c9-bfb4-e3a92e813a10",
   "metadata": {},
   "outputs": [],
   "source": [
    "data = np.array(data).reshape(-1, IMG_SIZE * IMG_SIZE)\n",
    "target = np.array(target)"
   ]
  },
  {
   "cell_type": "markdown",
   "id": "c8e76a5d-973d-4332-825b-984e133dd7e7",
   "metadata": {},
   "source": [
    "## Split Data into Training and Testing Sets"
   ]
  },
  {
   "cell_type": "code",
   "execution_count": null,
   "id": "a391113d-9efd-4fa8-8a6e-e607b3213a36",
   "metadata": {},
   "outputs": [],
   "source": [
    "X_train, X_test, y_train, y_test = train_test_split(data, target, test_size=0.2, random_state=42)"
   ]
  },
  {
   "cell_type": "markdown",
   "id": "e25680e1-98d6-41ca-905b-ba5886668f07",
   "metadata": {},
   "source": [
    "## Train the Support Vector Machine (SVM) Classifier"
   ]
  },
  {
   "cell_type": "code",
   "execution_count": null,
   "id": "720eda9f-4c93-4caa-8c9f-75d049bbc796",
   "metadata": {},
   "outputs": [],
   "source": [
    "epochs = [1, 5, 10, 15, 20]\n",
    "accuracy_scores = []\n",
    "\n",
    "for epoch in epochs:\n",
    "    svm_model = SVC(kernel='linear', random_state=42, max_iter=epoch)\n",
    "    svm_model.fit(X_train, y_train)\n",
    "    accuracy = svm_model.score(X_test, y_test)\n",
    "    accuracy_scores.append(accuracy)\n",
    "\n",
    "# Plot Accuracy vs. Epochs\n",
    "plt.plot(epochs, accuracy_scores, marker='o')\n",
    "plt.title('Accuracy vs. Epochs')\n",
    "plt.xlabel('Epochs')\n",
    "plt.ylabel('Accuracy')\n",
    "plt.grid(True)\n",
    "plt.show()"
   ]
  },
  {
   "cell_type": "markdown",
   "id": "fda8c11f-d2b9-4c7f-a27c-891646e6f4e8",
   "metadata": {},
   "source": [
    "## Evaluate the Model"
   ]
  },
  {
   "cell_type": "code",
   "execution_count": null,
   "id": "c8bfca47-fa85-487a-8cda-4389041c25be",
   "metadata": {},
   "outputs": [],
   "source": [
    "predictions = svm_model.predict(X_test)"
   ]
  },
  {
   "cell_type": "markdown",
   "id": "3a6165f0-4402-4589-b272-b88702e41dbb",
   "metadata": {},
   "source": [
    "## Print classification report and confusion matrix"
   ]
  },
  {
   "cell_type": "code",
   "execution_count": null,
   "id": "a6c78943-3915-4dfd-b871-b95fe339fe41",
   "metadata": {},
   "outputs": [],
   "source": [
    "print(classification_report(y_test, predictions))\n",
    "print(confusion_matrix(y_test, predictions))"
   ]
  },
  {
   "cell_type": "markdown",
   "id": "5901911b-1b66-4562-bb1a-46a86b4c534e",
   "metadata": {},
   "source": [
    "## Visualize Results"
   ]
  },
  {
   "cell_type": "code",
   "execution_count": null,
   "id": "d0031d36-5325-48ac-9cbe-357da586811c",
   "metadata": {},
   "outputs": [],
   "source": [
    "plt.figure(figsize=(10, 10))\n",
    "for i in range(16):\n",
    "    plt.subplot(4, 4, i + 1)\n",
    "    plt.imshow(X_test[i].reshape(IMG_SIZE, IMG_SIZE), cmap='gray')\n",
    "    plt.title(f\"Predicted: {CATEGORIES[predictions[i]]}, Actual: {CATEGORIES[y_test[i]]}\")\n",
    "    plt.axis('off')\n",
    "plt.show()"
   ]
  },
  {
   "cell_type": "code",
   "execution_count": null,
   "id": "53c10a23-9f84-4fbd-af15-e4610e4b7d70",
   "metadata": {},
   "outputs": [],
   "source": []
  }
 ],
 "metadata": {
  "kernelspec": {
   "display_name": "Python 3 (ipykernel)",
   "language": "python",
   "name": "python3"
  },
  "language_info": {
   "codemirror_mode": {
    "name": "ipython",
    "version": 3
   },
   "file_extension": ".py",
   "mimetype": "text/x-python",
   "name": "python",
   "nbconvert_exporter": "python",
   "pygments_lexer": "ipython3",
   "version": "3.12.1"
  }
 },
 "nbformat": 4,
 "nbformat_minor": 5
}
